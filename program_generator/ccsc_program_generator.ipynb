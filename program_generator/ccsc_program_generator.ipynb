{
 "cells": [
  {
   "cell_type": "code",
   "execution_count": 12,
   "id": "a4c69e68",
   "metadata": {},
   "outputs": [],
   "source": [
    "import pandas as pd\n",
    "import datetime\n",
    "\n",
    "submissions = pd.read_csv(\"Accepted_submissions_info.csv\")\n",
    "sessions = pd.read_csv(\"session_info.csv\")\n",
    "rooms = pd.read_csv(\"room_info.csv\")\n",
    "people_info = pd.read_csv(\"people.csv\")"
   ]
  },
  {
   "cell_type": "code",
   "execution_count": 13,
   "id": "a2cfa5f2",
   "metadata": {},
   "outputs": [
    {
     "data": {
      "text/plain": [
       "['Meredith Moore', 'John Emmons']"
      ]
     },
     "execution_count": 13,
     "metadata": {},
     "output_type": "execute_result"
    }
   ],
   "source": [
    "#submissions\n",
    "\n",
    "def convert_to_first_last(name):\n",
    "    if \",\" in name:\n",
    "        name = name.replace(\" \",\"\")\n",
    "        name = name.replace(\"\\t\",\"\")\n",
    "        last_first_list = name.split(\",\")\n",
    "        first = last_first_list[1]\n",
    "        last = last_first_list[0]\n",
    "        return first+' '+last\n",
    "    else:\n",
    "        return name\n",
    "\n",
    "people_info[\"full_name\"] = people_info[\"name\"].apply(convert_to_first_last)\n",
    "list(people_info[\"name\"])\n",
    "list(people_info[\"full_name\"])"
   ]
  },
  {
   "cell_type": "code",
   "execution_count": 14,
   "id": "1aa6f8c3",
   "metadata": {},
   "outputs": [
    {
     "name": "stdout",
     "output_type": "stream",
     "text": [
      "Meredith Moore\n",
      "0    Meredith Moore\n",
      "1       John Emmons\n",
      "Name: full_name, dtype: object\n",
      "              name       affiliation               image  \\\n",
      "0  Moore, Meredith  Drake University  meredithmoore.webp   \n",
      "\n",
      "                                                 bio       full_name  \n",
      "0  Dr. Moore is an Assistant Professor of Compute...  Meredith Moore  \n",
      "1\n",
      "{'name': 'Meredith Moore', 'first_name': 'Meredith', 'last_name': 'Moore', 'organization': 'Drake University', 'image': 'meredithmoore.webp', 'bio': \"Dr. Moore is an Assistant Professor of Computer Science at Drake University. Dr. Moore obtained her B.S. in Computer Science and Neuroscience from Drake University in 2015. She then went on to get her Ph.D. from Arizona State University in Computer Science as a National Science Foundation Graduate Research Fellow.\\n\\nDr. Moore's research focuses on using machine learning to improve the accessibility of technology for individuals with disabilities. \"}\n",
      "{'name': 'John Emmons', 'first_name': 'John', 'last_name': 'Emmons', 'organization': 'Salesforce', 'image': 'johnemmons.jpg', 'bio': \"John Emmons completed the engineering dual-degree program between Washington University in St. Louis and Drake University in 2016. He went on to get a Master's degree in computer science, focusing on deep learning, from Stanford University in 2018. He spent the next five years as a machine learning scientist at Tesla, eventually leading the Autopilot Vision team. For the last two years, he has served as the Director of AI at Salesforce. When John isn't running AI teams, he like to run long distances on the road and boasts a sub-3-hour marathon time.\"}\n",
      "Meredith Moore\n",
      "0    Meredith Moore\n",
      "1       John Emmons\n",
      "Name: full_name, dtype: object\n",
      "              name       affiliation               image  \\\n",
      "0  Moore, Meredith  Drake University  meredithmoore.webp   \n",
      "\n",
      "                                                 bio       full_name  \n",
      "0  Dr. Moore is an Assistant Professor of Compute...  Meredith Moore  \n",
      "1\n",
      "{'name': 'Meredith Moore', 'first_name': 'Meredith', 'last_name': 'Moore', 'organization': 'Drake University', 'image': 'meredithmoore.webp', 'bio': \"Dr. Moore is an Assistant Professor of Computer Science at Drake University. Dr. Moore obtained her B.S. in Computer Science and Neuroscience from Drake University in 2015. She then went on to get her Ph.D. from Arizona State University in Computer Science as a National Science Foundation Graduate Research Fellow.\\n\\nDr. Moore's research focuses on using machine learning to improve the accessibility of technology for individuals with disabilities. \"}\n"
     ]
    }
   ],
   "source": [
    "people = {}\n",
    "for idx in range(len(submissions)):\n",
    "    curr_sub = submissions.iloc[idx]\n",
    "    \n",
    "    authors = curr_sub[\"authors\"].replace(\"\\n\",\"\")\n",
    "    for n in range(10):\n",
    "        authors = authors.replace(f\" ({n})\",\"\")\n",
    "    authors_list = authors.split(\";\")\n",
    "    for author_idx in range(len(authors_list)):\n",
    "        while authors_list[author_idx][0] == \" \":\n",
    "            authors_list[author_idx] = authors_list[author_idx][1:]\n",
    "        while authors_list[author_idx][-1] == \" \":\n",
    "            authors_list[author_idx] = authors_list[author_idx][:-1]\n",
    "    #print(authors_list)\n",
    "    \n",
    "    organisations = curr_sub[\"organisations\"].replace(\"\\n\",\"\")\n",
    "    for n in range(10):\n",
    "        organisations = organisations.replace(f\"{n}: \",\"\")\n",
    "    organisations_list = organisations.split(\";\")\n",
    "    for organisation_idx in range(len(organisations_list)):\n",
    "        while organisations_list[organisation_idx][0] == \" \":\n",
    "            organisations_list[organisation_idx] = organisations_list[organisation_idx][1:]\n",
    "        while organisations_list[organisation_idx][-1] == \" \":\n",
    "            organisations_list[organisation_idx] = organisations_list[organisation_idx][:-1]\n",
    "    #print(organisations_list)\n",
    "    \n",
    "    for author_idx in range(len(authors_list)):\n",
    "        org = organisations_list[0]\n",
    "        if len(organisations_list) > 1:\n",
    "            org = organisations_list[author_idx]\n",
    "            \n",
    "        name = authors_list[author_idx]\n",
    "        first_name = name\n",
    "        last_name = name\n",
    "        if \",\" in name:\n",
    "            names = name.split(\", \")\n",
    "            first_name = names[1]\n",
    "            last_name = names[0]\n",
    "            authors_list[author_idx] = first_name + \" \" + last_name\n",
    "        else:\n",
    "            name_list = name.split(\" \")\n",
    "            first_name = \" \".join(name_list[:-1])\n",
    "            last_name = name_list[-1]\n",
    "            authors_list[author_idx] = first_name + \" \" + last_name\n",
    "            \n",
    "        people[name] = {\"name\":first_name+\" \"+last_name,\"first_name\":first_name,\"last_name\":last_name,\"organization\":org}\n",
    "        \n",
    "    \n",
    "        people_file_data = people_info[people_info[\"full_name\"] == people[name][\"name\"]]\n",
    "        if(people[name][\"name\"] == \"Meredith Moore\"):\n",
    "            print(people[name][\"name\"])\n",
    "            print(people_info[\"full_name\"])\n",
    "            print(people_file_data)\n",
    "            print(len(people_file_data))\n",
    "        if len(people_file_data) > 0:\n",
    "            if pd.notna(people_file_data.iloc[0][\"affiliation\"]):\n",
    "                people[name][\"organization\"] = people_file_data.iloc[0][\"affiliation\"]\n",
    "            if pd.notna(people_file_data.iloc[0][\"image\"]):\n",
    "                people[name][\"image\"] = people_file_data.iloc[0][\"image\"]\n",
    "            if pd.notna(people_file_data.iloc[0][\"bio\"]):\n",
    "                people[name][\"bio\"] = people_file_data.iloc[0][\"bio\"]\n",
    "            print(people[name])\n",
    "        \n",
    "        \n",
    "    with open(\"jekyll-website-test/jekyll-theme-conference/_talks/talk-\"+curr_sub[\"paper ID\"]+\".md\",\"w\") as talkfile:\n",
    "        talkfile.write(\"---\\n\")\n",
    "        if \"'\" in curr_sub['title']:\n",
    "            talkfile.write(f'name: \"{curr_sub[\"title\"]}\"\\n')\n",
    "        else:\n",
    "            talkfile.write(f\"name: '{curr_sub['title']}'\\n\")\n",
    "        talkfile.write(\"speakers:\\n\")\n",
    "        for author_name in authors_list:\n",
    "            talkfile.write(f\"  - {author_name}\\n\")\n",
    "        talkfile.write(\"categories:\\n\")\n",
    "        category = curr_sub[\"contribution type\"].replace('\"',\"\")\n",
    "        talkfile.write(f\"  - {category}\\n\")\n",
    "        if curr_sub[\"program_hide\"] == True:\n",
    "            talkfile.write(\"program_hide: true\\n\")\n",
    "        talkfile.write(\"---\\n\\n\")\n",
    "        if pd.notna(curr_sub[\"Abstract\"]):\n",
    "            abstract = curr_sub[\"Abstract\"].replace(\"\\n\",\" \")\n",
    "            if \"Abstract\" == abstract[:8]:\n",
    "                abstract = abstract[8:]\n",
    "            talkfile.write(abstract)\n",
    "        if pd.notna(curr_sub[\"image\"]):\n",
    "            talkfile.write('\\n\\n!['+curr_sub['title']+']({{ site.baseurl }}/assets/images/'+curr_sub[\"image\"]+')\\n')\n",
    "        if pd.notna(curr_sub[\"file\"]):\n",
    "            talkfile.write('\\n<p><a href=\"{{ site.baseurl }}/assets/files/'+curr_sub[\"file\"]+'\" class=\"btn btn-light\"><i class=\"fas fa-file-pdf\"></i>&nbsp;Download PDF</a></p>')\n",
    "        \n",
    "\n",
    "            \n",
    "for person in people:\n",
    "    with open(f'jekyll-website-test/jekyll-theme-conference/_speakers/{people[person][\"name\"].replace(\" \",\"\").replace(\".\",\"\")}.md',\"w\") as personfile:\n",
    "        #print(people[person])\n",
    "        personfile.write(\"---\\n\")\n",
    "        personfile.write(f\"name: {people[person]['name']}\\n\")\n",
    "        personfile.write(f\"first_name: {people[person]['first_name']}\\n\")\n",
    "        personfile.write(f\"last_name: {people[person]['last_name']}\\n\")\n",
    "        personfile.write(f\"affiliation: {people[person]['organization']}\\n\")\n",
    "        personfile.write(\"---\\n\\n\")\n",
    "        personfile.write(f\"{people[person]['organization']}\\n\")\n",
    "        if(\"image\" in people[person] and \"bio\" in people[person]):\n",
    "            personfile.write('<div style=\"display: flex; align-items: center; max-width: 1000px; flex-wrap: wrap;\">')\n",
    "            personfile.write('<img src=\"{{ site.baseurl }}/assets/images/'+people[person][\"image\"]+'\" alt=\"Headshot\" style=\"max-height:300px; width: auto; display: block; margin-right: 75px;  flex-shrink: 0;\">')\n",
    "            personfile.write('<p style=\"flex: 1; min-width: 300px;\">')\n",
    "            personfile.write(people[person][\"bio\"])\n",
    "            personfile.write('</p>')\n",
    "            personfile.write('</div>')\n",
    "        elif \"image\" in people[person]:\n",
    "            personfile.write('<img src=\"{{ site.baseurl }}/assets/images/'+people[person][\"image\"]+'\" alt=\"Headshot\" style=\"max-height:300px; width: auto; display: block; margin-right: 75px;\">')\n",
    "        elif \"bio\" in people[person]:\n",
    "            personfile.write(people[person][\"bio\"])\n",
    "        \n",
    "                    \n",
    "            \n",
    "        "
   ]
  },
  {
   "cell_type": "code",
   "execution_count": 15,
   "id": "7d0bfe87",
   "metadata": {},
   "outputs": [],
   "source": [
    "#sessions"
   ]
  },
  {
   "cell_type": "code",
   "execution_count": 16,
   "id": "616d11ac",
   "metadata": {},
   "outputs": [
    {
     "data": {
      "text/plain": [
       "array(['4/4/25', '4/5/25'], dtype=object)"
      ]
     },
     "execution_count": 16,
     "metadata": {},
     "output_type": "execute_result"
    }
   ],
   "source": [
    "sessions[\"day\"].unique()"
   ]
  },
  {
   "cell_type": "code",
   "execution_count": 17,
   "id": "d4a027f2",
   "metadata": {},
   "outputs": [],
   "source": [
    "for session_idx in range(len(sessions)):\n",
    "    curr_session = sessions.iloc[session_idx]\n",
    "    #print(curr_session)\n",
    "    if curr_session[\"type\"] != \"Break\" and curr_session[\"type\"] != \"Plenary\":\n",
    "        submissions_in_session = submissions[submissions[\"session_id\"] == curr_session[\"session_id\"]]\n",
    "        with open(f'jekyll-website-test/jekyll-theme-conference/_sessions/{curr_session[\"session_title\"].replace(\" \",\"\").replace(\".\",\"\")}.md',\"w\") as sessionfile:\n",
    "            if \"'\" in curr_session[\"session_title\"]:\n",
    "                sessionfile.write(f'---\\nname: \"{curr_session[\"session_title\"]}\"\\n---\\n')\n",
    "            else:\n",
    "                sessionfile.write(f\"---\\nname: '{curr_session['session_title']}'\\n---\\n\")\n",
    "            "
   ]
  },
  {
   "cell_type": "code",
   "execution_count": 18,
   "id": "2bdbfff5",
   "metadata": {},
   "outputs": [],
   "source": [
    "def parse_date(day_str):\n",
    "    # Try ISO format first\n",
    "    try:\n",
    "        return datetime.datetime.fromisoformat(day_str)\n",
    "    except ValueError:\n",
    "        pass\n",
    "    # Try Excel's M/D/YY or MM/DD/YY\n",
    "    try:\n",
    "        return datetime.datetime.strptime(day_str, \"%m/%d/%y\")\n",
    "    except ValueError:\n",
    "        pass\n",
    "    # Try D/M/YY if you're dealing with international formats\n",
    "    try:\n",
    "        return datetime.datetime.strptime(day_str, \"%d/%m/%y\")\n",
    "    except ValueError:\n",
    "        pass\n",
    "    \n",
    "    raise ValueError(f\"Unrecognized date format: {day_str}\")\n",
    "   \n",
    "used_room_order = []  # To store the order of rooms as they first appear\n",
    "\n",
    "with open(\"jekyll-website-test/jekyll-theme-conference/_data/program.yml\",\"w\") as progfile:\n",
    "    progfile.write(\"days:\\n\")\n",
    "    \n",
    "    for day in sessions[\"day\"].unique():\n",
    "        \n",
    "        sessions_on_day = sessions[sessions[\"day\"]==day]\n",
    "        \n",
    "        #dt = datetime.datetime.fromisoformat(day)\n",
    "        dt = parse_date(day)\n",
    "        weekday = dt.strftime(\"%A\")\n",
    "        weekday_abbr = dt.strftime(\"%a\")\n",
    "        \n",
    "        progfile.write(f\"- name: {weekday}\\n\")\n",
    "        progfile.write(f\"  abbr: {weekday_abbr}\\n\")\n",
    "        #progfile.write(f\"  date: {day}\\n\")\n",
    "        progfile.write(f\"  date: {dt.strftime('%Y-%m-%d')}\\n\")\n",
    "        progfile.write(\"  rooms:\\n\")\n",
    "        \n",
    "        # Rooms used today\n",
    "        rooms_today = sessions_on_day[\"room\"].dropna().unique().tolist()\n",
    "\n",
    "        # 1. Rooms seen before that are used today (preserve their original order)\n",
    "        ordered_today = [room for room in used_room_order if room in rooms_today]\n",
    "\n",
    "        # 2. New rooms not seen before\n",
    "        new_rooms = [room for room in rooms_today if room not in used_room_order]\n",
    "        ordered_today += new_rooms\n",
    "\n",
    "        # 3. Update the global room order tracker\n",
    "        for room in new_rooms:\n",
    "            used_room_order.append(room)\n",
    "\n",
    "        \n",
    "        for room in ordered_today:   \n",
    "            \n",
    "            \n",
    "            if pd.notna(room):\n",
    "            \n",
    "                progfile.write(f\"  - name: {room}\\n\")\n",
    "\n",
    "                sessions_in_room = sessions_on_day[sessions_on_day[\"room\"] == room]\n",
    "\n",
    "                progfile.write(\"    sessions:\\n\")\n",
    "\n",
    "                for session_id in sessions_in_room[\"session_id\"].unique():\n",
    "\n",
    "                    curr_session = sessions_in_room[sessions_in_room[\"session_id\"] == session_id].iloc[0]\n",
    "\n",
    "                    progfile.write(f\"    - name: {curr_session.session_title}\\n\")\n",
    "\n",
    "                    progfile.write(f\"      category: '{curr_session.type}'\\n\")\n",
    "                    if curr_session.plenary == True:\n",
    "                        progfile.write(f\"      plenary: true\\n\")\n",
    "                    else:\n",
    "                        progfile.write(f\"      plenary: false\\n\")\n",
    "                    if pd.notna(curr_session.description):\n",
    "                        progfile.write(f\"      description: '{curr_session.description}'\\n\")\n",
    "                    progfile.write(f\"      time_start: '{curr_session.start_time}'\\n\")\n",
    "                    progfile.write(f\"      time_end: '{curr_session.end_time}'\\n\")\n",
    "                    if pd.notna(curr_session[\"moderator\"]):\n",
    "                        progfile.write(f\"      moderator: '{curr_session.moderator}'\\n\")\n",
    "\n",
    "                    talks = submissions[submissions[\"session_id\"] == session_id]\n",
    "\n",
    "                    if len(talks) > 0:\n",
    "                        progfile.write(f\"      talks: \\n\")\n",
    "\n",
    "                        for talk_idx in range(len(talks)):\n",
    "                            curr_talk = talks.iloc[talk_idx]\n",
    "                            if \"'\" in curr_talk['title']:\n",
    "                                progfile.write(f'      - name: \"{curr_talk[\"title\"]}\"\\n')\n",
    "                            else:\n",
    "                                progfile.write(f\"      - name: '{curr_talk['title']}'\\n\")\n",
    "\n",
    "\n",
    "\n",
    "\n"
   ]
  },
  {
   "cell_type": "code",
   "execution_count": 19,
   "id": "de377211",
   "metadata": {},
   "outputs": [
    {
     "data": {
      "text/html": [
       "<div>\n",
       "<style scoped>\n",
       "    .dataframe tbody tr th:only-of-type {\n",
       "        vertical-align: middle;\n",
       "    }\n",
       "\n",
       "    .dataframe tbody tr th {\n",
       "        vertical-align: top;\n",
       "    }\n",
       "\n",
       "    .dataframe thead th {\n",
       "        text-align: right;\n",
       "    }\n",
       "</style>\n",
       "<table border=\"1\" class=\"dataframe\">\n",
       "  <thead>\n",
       "    <tr style=\"text-align: right;\">\n",
       "      <th></th>\n",
       "      <th>room</th>\n",
       "      <th>room_img1</th>\n",
       "      <th>room_img2</th>\n",
       "      <th>directions</th>\n",
       "    </tr>\n",
       "  </thead>\n",
       "  <tbody>\n",
       "    <tr>\n",
       "      <th>0</th>\n",
       "      <td>C-S 301</td>\n",
       "      <td>C-S301Map.png</td>\n",
       "      <td>C-SBuilding.jpg</td>\n",
       "      <td>On the 3rd floor of Collier-Scripps Hall, from...</td>\n",
       "    </tr>\n",
       "    <tr>\n",
       "      <th>1</th>\n",
       "      <td>C-S 207</td>\n",
       "      <td>C-S207Map.png</td>\n",
       "      <td>C-SBuilding.jpg</td>\n",
       "      <td>On the 2nd floor of Collier-Scripps Hall, from...</td>\n",
       "    </tr>\n",
       "    <tr>\n",
       "      <th>2</th>\n",
       "      <td>C-S 235</td>\n",
       "      <td>C-S235Map.png</td>\n",
       "      <td>C-SBuilding.jpg</td>\n",
       "      <td>On the 2nd floor of Collier-Scripps Hall, from...</td>\n",
       "    </tr>\n",
       "    <tr>\n",
       "      <th>3</th>\n",
       "      <td>C-S 308 and Halls</td>\n",
       "      <td>C-S3rdFloorMap.png</td>\n",
       "      <td>C-SBuilding.jpg</td>\n",
       "      <td>You can find refreshments, vendor tables, and ...</td>\n",
       "    </tr>\n",
       "    <tr>\n",
       "      <th>4</th>\n",
       "      <td>Shivers</td>\n",
       "      <td>shivers.jpeg</td>\n",
       "      <td>NaN</td>\n",
       "      <td>Enter the Shivers Basketball Practice Facility...</td>\n",
       "    </tr>\n",
       "    <tr>\n",
       "      <th>5</th>\n",
       "      <td>Des Moines Restaurants</td>\n",
       "      <td>NaN</td>\n",
       "      <td>NaN</td>\n",
       "      <td>\\n&lt;h3&gt;Adjacent to Campus&lt;/h3&gt;\\n&lt;ul&gt;\\n&lt;li&gt;&lt;a hr...</td>\n",
       "    </tr>\n",
       "    <tr>\n",
       "      <th>6</th>\n",
       "      <td>Upper Carnegie</td>\n",
       "      <td>carnegie.jpg</td>\n",
       "      <td>NaN</td>\n",
       "      <td>Enter through the main entrance on the north s...</td>\n",
       "    </tr>\n",
       "    <tr>\n",
       "      <th>7</th>\n",
       "      <td>Olin 101</td>\n",
       "      <td>Olin.jpg</td>\n",
       "      <td>NaN</td>\n",
       "      <td>Olin Hall is the building just north of Collie...</td>\n",
       "    </tr>\n",
       "  </tbody>\n",
       "</table>\n",
       "</div>"
      ],
      "text/plain": [
       "                     room           room_img1        room_img2  \\\n",
       "0                 C-S 301       C-S301Map.png  C-SBuilding.jpg   \n",
       "1                 C-S 207       C-S207Map.png  C-SBuilding.jpg   \n",
       "2                 C-S 235       C-S235Map.png  C-SBuilding.jpg   \n",
       "3       C-S 308 and Halls  C-S3rdFloorMap.png  C-SBuilding.jpg   \n",
       "4                 Shivers        shivers.jpeg              NaN   \n",
       "5  Des Moines Restaurants                 NaN              NaN   \n",
       "6          Upper Carnegie        carnegie.jpg              NaN   \n",
       "7                Olin 101            Olin.jpg              NaN   \n",
       "\n",
       "                                          directions  \n",
       "0  On the 3rd floor of Collier-Scripps Hall, from...  \n",
       "1  On the 2nd floor of Collier-Scripps Hall, from...  \n",
       "2  On the 2nd floor of Collier-Scripps Hall, from...  \n",
       "3  You can find refreshments, vendor tables, and ...  \n",
       "4  Enter the Shivers Basketball Practice Facility...  \n",
       "5  \\n<h3>Adjacent to Campus</h3>\\n<ul>\\n<li><a hr...  \n",
       "6  Enter through the main entrance on the north s...  \n",
       "7  Olin Hall is the building just north of Collie...  "
      ]
     },
     "execution_count": 19,
     "metadata": {},
     "output_type": "execute_result"
    }
   ],
   "source": [
    "rooms"
   ]
  },
  {
   "cell_type": "code",
   "execution_count": 20,
   "id": "f75c0bcd",
   "metadata": {},
   "outputs": [
    {
     "data": {
      "text/plain": [
       "room                                                    C-S 301\n",
       "room_img1                                         C-S301Map.png\n",
       "room_img2                                       C-SBuilding.jpg\n",
       "directions    On the 3rd floor of Collier-Scripps Hall, from...\n",
       "Name: 0, dtype: object"
      ]
     },
     "metadata": {},
     "output_type": "display_data"
    },
    {
     "data": {
      "text/plain": [
       "room                                                    C-S 207\n",
       "room_img1                                         C-S207Map.png\n",
       "room_img2                                       C-SBuilding.jpg\n",
       "directions    On the 2nd floor of Collier-Scripps Hall, from...\n",
       "Name: 1, dtype: object"
      ]
     },
     "metadata": {},
     "output_type": "display_data"
    },
    {
     "data": {
      "text/plain": [
       "room                                                    C-S 235\n",
       "room_img1                                         C-S235Map.png\n",
       "room_img2                                       C-SBuilding.jpg\n",
       "directions    On the 2nd floor of Collier-Scripps Hall, from...\n",
       "Name: 2, dtype: object"
      ]
     },
     "metadata": {},
     "output_type": "display_data"
    },
    {
     "data": {
      "text/plain": [
       "room                                          C-S 308 and Halls\n",
       "room_img1                                    C-S3rdFloorMap.png\n",
       "room_img2                                       C-SBuilding.jpg\n",
       "directions    You can find refreshments, vendor tables, and ...\n",
       "Name: 3, dtype: object"
      ]
     },
     "metadata": {},
     "output_type": "display_data"
    },
    {
     "data": {
      "text/plain": [
       "room                                                    Shivers\n",
       "room_img1                                          shivers.jpeg\n",
       "room_img2                                                   NaN\n",
       "directions    Enter the Shivers Basketball Practice Facility...\n",
       "Name: 4, dtype: object"
      ]
     },
     "metadata": {},
     "output_type": "display_data"
    },
    {
     "data": {
      "text/plain": [
       "room                                     Des Moines Restaurants\n",
       "room_img1                                                   NaN\n",
       "room_img2                                                   NaN\n",
       "directions    \\n<h3>Adjacent to Campus</h3>\\n<ul>\\n<li><a hr...\n",
       "Name: 5, dtype: object"
      ]
     },
     "metadata": {},
     "output_type": "display_data"
    },
    {
     "data": {
      "text/plain": [
       "room                                             Upper Carnegie\n",
       "room_img1                                          carnegie.jpg\n",
       "room_img2                                                   NaN\n",
       "directions    Enter through the main entrance on the north s...\n",
       "Name: 6, dtype: object"
      ]
     },
     "metadata": {},
     "output_type": "display_data"
    },
    {
     "data": {
      "text/plain": [
       "room                                                   Olin 101\n",
       "room_img1                                              Olin.jpg\n",
       "room_img2                                                   NaN\n",
       "directions    Olin Hall is the building just north of Collie...\n",
       "Name: 7, dtype: object"
      ]
     },
     "metadata": {},
     "output_type": "display_data"
    }
   ],
   "source": [
    "for room_idx in range(len(rooms)):\n",
    "    room = rooms.iloc[room_idx]\n",
    "    display(room)\n",
    "    with open(\"jekyll-website-test/jekyll-theme-conference/_rooms/\"+room[\"room\"].replace(\" \",\"\")+\".md\",\"w\") as roomfile:\n",
    "        roomfile.write(f\"---\\nname: {room['room']}\\n---\\n\")\n",
    "        if pd.notna(room[\"directions\"]):\n",
    "            roomfile.write(\"<br/><br/>\")\n",
    "            roomfile.write(f'{room[\"directions\"]}')\n",
    "        if pd.notna(room[\"room_img1\"]):\n",
    "            roomfile.write(\"<br/><br/>\")\n",
    "            roomfile.write('![room image]({{ site.baseurl }}'+f'/assets/images/{room[\"room_img1\"]})'+'{: style=\"max-height:400px; width: auto; display: block; margin: 0 auto;\" }')\n",
    "        if pd.notna(room[\"room_img2\"]):\n",
    "            roomfile.write(\"<br/><br/>\")\n",
    "            roomfile.write('![room image]({{ site.baseurl }}'+f'/assets/images/{room[\"room_img2\"]})'+'{: style=\"max-height:400px; width: auto; display: block; margin: 0 auto;\" }')\n",
    "\n",
    "        \n",
    "                "
   ]
  },
  {
   "cell_type": "code",
   "execution_count": null,
   "id": "9b51dc3f",
   "metadata": {},
   "outputs": [],
   "source": []
  },
  {
   "cell_type": "code",
   "execution_count": null,
   "id": "80a244c9",
   "metadata": {},
   "outputs": [],
   "source": []
  }
 ],
 "metadata": {
  "kernelspec": {
   "display_name": "Python 3 (ipykernel)",
   "language": "python",
   "name": "python3"
  },
  "language_info": {
   "codemirror_mode": {
    "name": "ipython",
    "version": 3
   },
   "file_extension": ".py",
   "mimetype": "text/x-python",
   "name": "python",
   "nbconvert_exporter": "python",
   "pygments_lexer": "ipython3",
   "version": "3.10.6"
  }
 },
 "nbformat": 4,
 "nbformat_minor": 5
}
